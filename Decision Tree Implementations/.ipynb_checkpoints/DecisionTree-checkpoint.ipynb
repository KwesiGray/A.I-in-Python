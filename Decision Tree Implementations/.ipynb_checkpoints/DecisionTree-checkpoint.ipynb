{
 "cells": [
  {
   "cell_type": "code",
   "execution_count": 2,
   "id": "042fb5fd",
   "metadata": {},
   "outputs": [],
   "source": [
    "from sklearn.tree import DecisionTreeClassifier\n",
    "from sklearn.model_selection import train_test_split\n",
    "from sklearn.metrics import accuracy_score\n",
    "from sklearn.metrics import precision_score\n",
    "from sklearn.metrics import classification_report\n",
    "from sklearn.metrics import confusion_matrix\n",
    "import pandas as pd\n",
    "import numpy as np\n",
    "import statsmodels.api as sm\n",
    "import matplotlib.pyplot as plt\n",
    "import seaborn as sns\n"
   ]
  },
  {
   "cell_type": "code",
   "execution_count": 3,
   "id": "538cd06b",
   "metadata": {},
   "outputs": [
    {
     "name": "stdout",
     "output_type": "stream",
     "text": [
      "   Unnamed: 0  carat colour clarity certification  price\n",
      "0           1   0.30      D     VS2           GIA   1302\n",
      "1           2   0.30      E     VS1           GIA   1510\n",
      "2           3   0.30      G    VVS1           GIA   1510\n",
      "3           4   0.30      G     VS1           GIA   1260\n",
      "4           5   0.31      D     VS1           GIA   1641\n",
      "5           6   0.31      E     VS1           GIA   1555\n",
      "6           7   0.31      F     VS1           GIA   1427\n",
      "7           8   0.31      G    VVS2           GIA   1427\n",
      "8           9   0.31      H     VS2           GIA   1126\n",
      "9          10   0.31      I     VS1           GIA   1126\n"
     ]
    }
   ],
   "source": [
    "data = pd.read_csv(\"diamond.csv\")\n",
    "print(data.head(11))"
   ]
  },
  {
   "cell_type": "code",
   "execution_count": 8,
   "id": "feb0c13b",
   "metadata": {},
   "outputs": [
    {
     "name": "stdout",
     "output_type": "stream",
     "text": [
      "     carat  price\n",
      "0     0.30   1302\n",
      "1     0.30   1510\n",
      "2     0.30   1510\n",
      "3     0.30   1260\n",
      "4     0.31   1641\n",
      "..     ...    ...\n",
      "303   1.01   8175\n",
      "304   1.02  10796\n",
      "305   1.06   9890\n",
      "306   1.02   8959\n",
      "307   1.09   9107\n",
      "\n",
      "[308 rows x 2 columns]\n"
     ]
    }
   ],
   "source": [
    "x_list = data[['carat', 'price']] # creating a subset of the data consisting of the columns carat and price\n",
    "x_list = x\n",
    "print(x)"
   ]
  },
  {
   "cell_type": "code",
   "execution_count": 11,
   "id": "c88080a5",
   "metadata": {},
   "outputs": [
    {
     "name": "stdout",
     "output_type": "stream",
     "text": [
      "0       True\n",
      "1       True\n",
      "2       True\n",
      "3       True\n",
      "4       True\n",
      "       ...  \n",
      "303    False\n",
      "304    False\n",
      "305    False\n",
      "306    False\n",
      "307    False\n",
      "Name: certification, Length: 308, dtype: bool\n"
     ]
    }
   ],
   "source": [
    "y = data.certification == 'GIA' # checking the CERTIFICATION column for the value GIA is present in it and returning a boolean value\n",
    "print(y)"
   ]
  },
  {
   "cell_type": "code",
   "execution_count": 12,
   "id": "3b75b976",
   "metadata": {},
   "outputs": [
    {
     "data": {
      "text/plain": [
       "0      1\n",
       "1      1\n",
       "2      1\n",
       "3      1\n",
       "4      1\n",
       "      ..\n",
       "303    0\n",
       "304    0\n",
       "305    0\n",
       "306    0\n",
       "307    0\n",
       "Name: certification, Length: 308, dtype: int32"
      ]
     },
     "execution_count": 12,
     "metadata": {},
     "output_type": "execute_result"
    }
   ],
   "source": [
    "#binary 1-True 0-False\n",
    "y = (data.certification == 'GIA') * 1 # converting the boolean value to binary soo instead of True and False we have 1 and 0 in place\n",
    "y"
   ]
  },
  {
   "cell_type": "code",
   "execution_count": 16,
   "id": "f05318a6",
   "metadata": {},
   "outputs": [],
   "source": [
    "x_train, x_test, y_train, y_test = train_test_split(x, y, test_size = 0.3, random_state = 50)\n",
    "\n",
    "# This line is calling the train_test_split function with x and y as the features and labels, respectively. The test_size parameter is set to 0.3, which means that 30% of the data will be used for testing, and the remaining 70% will be used for training. The random_state parameter is set to 50 to ensure that the data is split in the same way each time the code is run."
   ]
  },
  {
   "cell_type": "code",
   "execution_count": 17,
   "id": "d562611f",
   "metadata": {},
   "outputs": [
    {
     "data": {
      "text/plain": [
       "DecisionTreeClassifier(max_depth=7, max_leaf_nodes=10, min_samples_leaf=10,\n",
       "                       random_state=42)"
      ]
     },
     "execution_count": 17,
     "metadata": {},
     "output_type": "execute_result"
    }
   ],
   "source": [
    "gini_model = DecisionTreeClassifier(criterion = 'gini', max_depth = 7, max_leaf_nodes = 10, min_samples_leaf = 10, random_state = 42)\n",
    "gini_model.fit(x_train, y_train) #WE FIT THE MODEL TO THE TRAINING DATA TO LEARN FROM IT AND MAKE PREDICTIONS."
   ]
  },
  {
   "cell_type": "code",
   "execution_count": 18,
   "id": "c8206312",
   "metadata": {},
   "outputs": [
    {
     "data": {
      "text/plain": [
       "array([0, 1, 0, 1, 0, 1, 1, 0, 0, 1, 1, 1, 0, 1, 1, 0, 0, 1, 1, 0, 1, 1,\n",
       "       0, 0, 0, 0, 0, 0, 0, 0, 1, 1, 0, 0, 0, 0, 0, 0, 0, 0, 0, 0, 0, 1,\n",
       "       0, 0, 0, 1, 0, 0, 1, 0, 0, 0, 0, 0, 1, 0, 0, 1, 0, 1, 0, 0, 0, 0,\n",
       "       1, 0, 0, 0, 1, 1, 0, 0, 0, 0, 1, 0, 1, 0, 0, 1, 0, 0, 0, 1, 1, 0,\n",
       "       0, 0, 1, 0, 0])"
      ]
     },
     "execution_count": 18,
     "metadata": {},
     "output_type": "execute_result"
    }
   ],
   "source": [
    "#Time to test our model based on the data it has learned from the training data.\n",
    "predictions = gini_model.predict(x_test)#making predictions on the test data from what the model has learned from the training data\n",
    "predictions\n"
   ]
  },
  {
   "cell_type": "code",
   "execution_count": 34,
   "id": "15f956c3",
   "metadata": {},
   "outputs": [
    {
     "data": {
      "text/plain": [
       "array([[0.5106383 , 0.4893617 ],\n",
       "       [0.34210526, 0.65789474],\n",
       "       [0.83333333, 0.16666667],\n",
       "       [0.18181818, 0.81818182],\n",
       "       [0.83333333, 0.16666667],\n",
       "       [0.07142857, 0.92857143],\n",
       "       [0.18181818, 0.81818182],\n",
       "       [0.83333333, 0.16666667],\n",
       "       [1.        , 0.        ],\n",
       "       [0.34210526, 0.65789474],\n",
       "       [0.34210526, 0.65789474],\n",
       "       [0.07142857, 0.92857143],\n",
       "       [0.76923077, 0.23076923],\n",
       "       [0.34210526, 0.65789474],\n",
       "       [0.07142857, 0.92857143],\n",
       "       [0.5       , 0.5       ],\n",
       "       [0.83333333, 0.16666667],\n",
       "       [0.18181818, 0.81818182],\n",
       "       [0.2       , 0.8       ],\n",
       "       [1.        , 0.        ],\n",
       "       [0.34210526, 0.65789474],\n",
       "       [0.18181818, 0.81818182],\n",
       "       [0.83333333, 0.16666667],\n",
       "       [0.83333333, 0.16666667],\n",
       "       [1.        , 0.        ],\n",
       "       [0.53846154, 0.46153846],\n",
       "       [0.53846154, 0.46153846],\n",
       "       [0.53846154, 0.46153846],\n",
       "       [0.5106383 , 0.4893617 ],\n",
       "       [0.53846154, 0.46153846],\n",
       "       [0.34210526, 0.65789474],\n",
       "       [0.34210526, 0.65789474],\n",
       "       [0.5       , 0.5       ],\n",
       "       [0.5106383 , 0.4893617 ],\n",
       "       [0.5106383 , 0.4893617 ],\n",
       "       [1.        , 0.        ],\n",
       "       [0.53846154, 0.46153846],\n",
       "       [0.83333333, 0.16666667],\n",
       "       [0.83333333, 0.16666667],\n",
       "       [1.        , 0.        ],\n",
       "       [0.76923077, 0.23076923],\n",
       "       [1.        , 0.        ],\n",
       "       [0.76923077, 0.23076923],\n",
       "       [0.18181818, 0.81818182],\n",
       "       [0.83333333, 0.16666667],\n",
       "       [0.5106383 , 0.4893617 ],\n",
       "       [0.5106383 , 0.4893617 ],\n",
       "       [0.2       , 0.8       ],\n",
       "       [0.5       , 0.5       ],\n",
       "       [1.        , 0.        ],\n",
       "       [0.07142857, 0.92857143],\n",
       "       [0.53846154, 0.46153846],\n",
       "       [0.5       , 0.5       ],\n",
       "       [0.5       , 0.5       ],\n",
       "       [0.53846154, 0.46153846],\n",
       "       [0.53846154, 0.46153846],\n",
       "       [0.34210526, 0.65789474],\n",
       "       [1.        , 0.        ],\n",
       "       [1.        , 0.        ],\n",
       "       [0.18181818, 0.81818182],\n",
       "       [0.76923077, 0.23076923],\n",
       "       [0.07142857, 0.92857143],\n",
       "       [0.5106383 , 0.4893617 ],\n",
       "       [0.5       , 0.5       ],\n",
       "       [0.53846154, 0.46153846],\n",
       "       [0.76923077, 0.23076923],\n",
       "       [0.2       , 0.8       ],\n",
       "       [1.        , 0.        ],\n",
       "       [0.53846154, 0.46153846],\n",
       "       [0.5106383 , 0.4893617 ],\n",
       "       [0.18181818, 0.81818182],\n",
       "       [0.2       , 0.8       ],\n",
       "       [0.76923077, 0.23076923],\n",
       "       [0.53846154, 0.46153846],\n",
       "       [0.5106383 , 0.4893617 ],\n",
       "       [0.53846154, 0.46153846],\n",
       "       [0.34210526, 0.65789474],\n",
       "       [0.83333333, 0.16666667],\n",
       "       [0.2       , 0.8       ],\n",
       "       [0.53846154, 0.46153846],\n",
       "       [0.5       , 0.5       ],\n",
       "       [0.07142857, 0.92857143],\n",
       "       [0.5106383 , 0.4893617 ],\n",
       "       [0.83333333, 0.16666667],\n",
       "       [0.5       , 0.5       ],\n",
       "       [0.18181818, 0.81818182],\n",
       "       [0.34210526, 0.65789474],\n",
       "       [0.5106383 , 0.4893617 ],\n",
       "       [0.5106383 , 0.4893617 ],\n",
       "       [0.53846154, 0.46153846],\n",
       "       [0.34210526, 0.65789474],\n",
       "       [0.76923077, 0.23076923],\n",
       "       [0.5       , 0.5       ]])"
      ]
     },
     "execution_count": 34,
     "metadata": {},
     "output_type": "execute_result"
    }
   ],
   "source": [
    "probability = gini_model.predict_proba(x_test) # This line is asking the model (which we've named gini_model) to estimate the probabilities of the possible outcomes for the x_test data. \n",
    "probability # The output is an array of two columns, with each row representing the probabilities of the two possible outcomes (0 and 1) for a single observation in the x_test data."
   ]
  },
  {
   "cell_type": "code",
   "execution_count": 35,
   "id": "909f7e99",
   "metadata": {},
   "outputs": [
    {
     "name": "stdout",
     "output_type": "stream",
     "text": [
      "              precision    recall  f1-score   support\n",
      "\n",
      "           0       0.54      0.77      0.64        44\n",
      "           1       0.67      0.41      0.51        49\n",
      "\n",
      "    accuracy                           0.58        93\n",
      "   macro avg       0.60      0.59      0.57        93\n",
      "weighted avg       0.61      0.58      0.57        93\n",
      "\n"
     ]
    }
   ],
   "source": [
    "report = classification_report(y_test, predictions) #This line is creating a report that tells us how well our model did on its predictions.\n",
    "print(report)\n",
    "\n",
    "#classification_report is a function that compares the true outcomes (y_test) with the outcomes our model predicted (predictions)."
   ]
  },
  {
   "cell_type": "code",
   "execution_count": 19,
   "id": "991cece3",
   "metadata": {},
   "outputs": [
    {
     "name": "stdout",
     "output_type": "stream",
     "text": [
      "58.06451612903226 %\n"
     ]
    }
   ],
   "source": [
    "accuracy = accuracy_score(y_test, predictions) #accuracy = accuracy_score(y_test, predictions): This line is calculating how often the model's predictions (predictions) were correct.\n",
    "print((accuracy * 100), \"%\")"
   ]
  },
  {
   "cell_type": "code",
   "execution_count": 37,
   "id": "9deac18e",
   "metadata": {},
   "outputs": [
    {
     "name": "stdout",
     "output_type": "stream",
     "text": [
      "66.66666666666666 %\n"
     ]
    }
   ],
   "source": [
    "precision = precision_score(y_test, predictions)\n",
    "print((precision * 100), \"%\")"
   ]
  },
  {
   "cell_type": "code",
   "execution_count": 38,
   "id": "b8c70d2d",
   "metadata": {},
   "outputs": [
    {
     "name": "stdout",
     "output_type": "stream",
     "text": [
      "[[20 29]\n",
      " [10 34]]\n"
     ]
    }
   ],
   "source": [
    "matrix = confusion_matrix(y_test, predictions, labels = [1,0])\n",
    "print(matrix)"
   ]
  },
  {
   "cell_type": "code",
   "execution_count": 40,
   "id": "fb5a883d",
   "metadata": {},
   "outputs": [
    {
     "data": {
      "text/html": [
       "<div>\n",
       "<style scoped>\n",
       "    .dataframe tbody tr th:only-of-type {\n",
       "        vertical-align: middle;\n",
       "    }\n",
       "\n",
       "    .dataframe tbody tr th {\n",
       "        vertical-align: top;\n",
       "    }\n",
       "\n",
       "    .dataframe thead th {\n",
       "        text-align: right;\n",
       "    }\n",
       "</style>\n",
       "<table border=\"1\" class=\"dataframe\">\n",
       "  <thead>\n",
       "    <tr style=\"text-align: right;\">\n",
       "      <th></th>\n",
       "      <th>0</th>\n",
       "    </tr>\n",
       "  </thead>\n",
       "  <tbody>\n",
       "    <tr>\n",
       "      <th>carat</th>\n",
       "      <td>0.674456</td>\n",
       "    </tr>\n",
       "    <tr>\n",
       "      <th>price</th>\n",
       "      <td>0.325544</td>\n",
       "    </tr>\n",
       "  </tbody>\n",
       "</table>\n",
       "</div>"
      ],
      "text/plain": [
       "              0\n",
       "carat  0.674456\n",
       "price  0.325544"
      ]
     },
     "execution_count": 40,
     "metadata": {},
     "output_type": "execute_result"
    }
   ],
   "source": [
    "x_influences = pd.DataFrame(gini_model.feature_importances_, index = x.columns)\n",
    "x_influences"
   ]
  },
  {
   "cell_type": "code",
   "execution_count": null,
   "id": "0a5bd24e",
   "metadata": {},
   "outputs": [],
   "source": []
  }
 ],
 "metadata": {
  "kernelspec": {
   "display_name": "Python 3 (ipykernel)",
   "language": "python",
   "name": "python3"
  },
  "language_info": {
   "codemirror_mode": {
    "name": "ipython",
    "version": 3
   },
   "file_extension": ".py",
   "mimetype": "text/x-python",
   "name": "python",
   "nbconvert_exporter": "python",
   "pygments_lexer": "ipython3",
   "version": "3.9.7"
  }
 },
 "nbformat": 4,
 "nbformat_minor": 5
}
