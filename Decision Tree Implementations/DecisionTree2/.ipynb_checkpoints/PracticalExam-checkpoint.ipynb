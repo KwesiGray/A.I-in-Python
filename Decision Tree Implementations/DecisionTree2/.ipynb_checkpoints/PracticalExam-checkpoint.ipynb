{
 "cells": [
  {
   "cell_type": "code",
   "execution_count": 94,
   "id": "7ef7b066-22ab-43cf-b4bb-8690bea304ee",
   "metadata": {
    "tags": []
   },
   "outputs": [],
   "source": [
    "import numpy as np\n",
    "import pandas as pd\n",
    "import matplotlib.pyplot as plt\n",
    "import seaborn as sb\n",
    "from sklearn.linear_model import LinearRegression\n",
    "from sklearn.model_selection import train_test_split\n",
    "import sklearn.tree"
   ]
  },
  {
   "cell_type": "markdown",
   "id": "1ff4ba5c-bf28-480b-936c-386ff52bbc58",
   "metadata": {},
   "source": [
    "# Linear Regression"
   ]
  },
  {
   "cell_type": "code",
   "execution_count": 35,
   "id": "4f42f4a0-612e-45b9-bfd8-710095a85003",
   "metadata": {
    "tags": []
   },
   "outputs": [],
   "source": [
    "df = pd.read_csv('loan.csv')"
   ]
  },
  {
   "cell_type": "code",
   "execution_count": 36,
   "id": "30890850-a8bc-42a5-af26-1f1e2fdc2313",
   "metadata": {
    "tags": []
   },
   "outputs": [],
   "source": [
    "X = np.linspace(-np.pi, +np.pi, 100)"
   ]
  },
  {
   "cell_type": "code",
   "execution_count": 37,
   "id": "fe2cfa4f-6ab9-42ec-a6f1-7e39f9cc4af1",
   "metadata": {
    "tags": []
   },
   "outputs": [
    {
     "name": "stdout",
     "output_type": "stream",
     "text": [
      "[-3.14159265 -3.07812614 -3.01465962 -2.9511931  -2.88772658 -2.82426006\n",
      " -2.76079354 -2.69732703 -2.63386051 -2.57039399 -2.50692747 -2.44346095\n",
      " -2.37999443 -2.31652792 -2.2530614  -2.18959488 -2.12612836 -2.06266184\n",
      " -1.99919533 -1.93572881 -1.87226229 -1.80879577 -1.74532925 -1.68186273\n",
      " -1.61839622 -1.5549297  -1.49146318 -1.42799666 -1.36453014 -1.30106362\n",
      " -1.23759711 -1.17413059 -1.11066407 -1.04719755 -0.98373103 -0.92026451\n",
      " -0.856798   -0.79333148 -0.72986496 -0.66639844 -0.60293192 -0.53946541\n",
      " -0.47599889 -0.41253237 -0.34906585 -0.28559933 -0.22213281 -0.1586663\n",
      " -0.09519978 -0.03173326  0.03173326  0.09519978  0.1586663   0.22213281\n",
      "  0.28559933  0.34906585  0.41253237  0.47599889  0.53946541  0.60293192\n",
      "  0.66639844  0.72986496  0.79333148  0.856798    0.92026451  0.98373103\n",
      "  1.04719755  1.11066407  1.17413059  1.23759711  1.30106362  1.36453014\n",
      "  1.42799666  1.49146318  1.5549297   1.61839622  1.68186273  1.74532925\n",
      "  1.80879577  1.87226229  1.93572881  1.99919533  2.06266184  2.12612836\n",
      "  2.18959488  2.2530614   2.31652792  2.37999443  2.44346095  2.50692747\n",
      "  2.57039399  2.63386051  2.69732703  2.76079354  2.82426006  2.88772658\n",
      "  2.9511931   3.01465962  3.07812614  3.14159265]\n"
     ]
    }
   ],
   "source": [
    "print(X)"
   ]
  },
  {
   "cell_type": "code",
   "execution_count": 38,
   "id": "077c3255-17b9-475a-b51e-f10371986805",
   "metadata": {
    "tags": []
   },
   "outputs": [],
   "source": [
    "Y = X/2 + np.sin(X) + np.random.random(X.shape)"
   ]
  },
  {
   "cell_type": "code",
   "execution_count": 39,
   "id": "8e69eeb2-b0cb-41f8-899a-3c55704283f9",
   "metadata": {
    "tags": []
   },
   "outputs": [
    {
     "name": "stdout",
     "output_type": "stream",
     "text": [
      "[-0.72006357 -0.68069334 -0.94374818 -1.06661431 -0.73617363 -1.66659915\n",
      " -1.70838593 -0.91542811 -1.22713083 -1.04600881 -1.82223549 -1.36086693\n",
      " -1.80589376 -0.91581964 -1.66082307 -0.94058253 -1.17019917 -1.78824038\n",
      " -1.63618654 -1.04907956 -1.09078717 -0.88700998 -1.53232062 -1.61799736\n",
      " -1.51838842 -1.09272366 -0.80014494 -0.89358919 -0.87644283 -1.46255555\n",
      " -1.35487998 -0.93896964 -1.19619967 -1.29454787 -0.99422128 -0.99450388\n",
      " -1.10717914 -0.84350222 -0.85788776 -0.39597541 -0.20964915 -0.38932013\n",
      " -0.4324159  -0.28257695  0.14610014  0.32877593  0.65603811  0.4167959\n",
      "  0.7750022   0.44871881  0.17773626  0.87946911  0.25944286  0.74535493\n",
      "  1.4105535   0.95792949  1.04373214  1.09080786  1.25501701  1.07266206\n",
      "  1.62734638  1.77716662  1.2786308   1.64302253  1.38191429  1.59063103\n",
      "  1.74647493  2.0186739   1.78682735  2.04192496  2.28524412  1.72694908\n",
      "  1.78065222  1.94226127  1.94652149  2.1778182   2.52724486  2.18768228\n",
      "  2.59763707  2.24474767  2.43064968  2.67250168  2.14889389  2.08618028\n",
      "  1.96373698  2.84284048  2.53967041  2.43767853  1.96095271  2.17297369\n",
      "  2.4335276   2.60573111  2.05810647  2.33950707  2.45487301  2.46714346\n",
      "  2.60377429  2.25215645  1.76441973  2.19500557]\n"
     ]
    }
   ],
   "source": [
    "print(Y)"
   ]
  },
  {
   "cell_type": "code",
   "execution_count": 40,
   "id": "86ccef4b-8505-4301-86f1-0f8525f69972",
   "metadata": {
    "tags": []
   },
   "outputs": [
    {
     "data": {
      "image/png": "[encoded data removed]",
      "text/plain": [
       "<Figure size 640x480 with 1 Axes>"
      ]
     },
     "metadata": {},
     "output_type": "display_data"
    }
   ],
   "source": [
    "plt.scatter(X,Y,color = 'black')\n",
    "plt.xlabel('x-input feature')\n",
    "plt.ylabel('y-input feature')\n",
    "plt.show()"
   ]
  },
  {
   "cell_type": "code",
   "execution_count": 41,
   "id": "82aa8f47-1940-4525-af06-a5597edf3a92",
   "metadata": {
    "tags": []
   },
   "outputs": [
    {
     "data": {
      "text/plain": [
       "array([40, 30, 81, 90, 35, 39, 95, 48, 50,  9, 74, 32, 59,  8, 46, 64,  2,\n",
       "        4, 75, 56, 70, 67, 92, 45, 85, 25, 34, 97, 76, 52, 31, 55, 53, 42,\n",
       "       14, 88, 36, 43, 21, 24,  0, 11, 71, 41, 99, 12, 65, 89, 69, 79, 73,\n",
       "       91, 17, 26, 57, 47, 63, 80,  6, 77, 19,  1, 78, 28, 20, 18, 15, 61,\n",
       "       13, 27, 33, 22, 62, 60, 94, 49, 16,  7, 82, 83, 54, 98, 84, 87, 51,\n",
       "       68, 38, 29, 96, 86, 37, 44, 66,  5, 72, 93,  3, 23, 58, 10])"
      ]
     },
     "execution_count": 41,
     "metadata": {},
     "output_type": "execute_result"
    }
   ],
   "source": [
    "random_indices=np.random.permutation(100)\n",
    "random_indices"
   ]
  },
  {
   "cell_type": "code",
   "execution_count": 42,
   "id": "7917205e-ca03-461d-96a3-14e2dd4e9158",
   "metadata": {
    "tags": []
   },
   "outputs": [
    {
     "data": {
      "text/plain": [
       "array([-0.60293192, -1.23759711,  1.99919533,  2.57039399, -0.92026451,\n",
       "       -0.66639844,  2.88772658, -0.09519978,  0.03173326, -2.57039399,\n",
       "        1.5549297 , -1.11066407,  0.60293192, -2.63386051, -0.22213281,\n",
       "        0.92026451, -3.01465962, -2.88772658,  1.61839622,  0.41253237,\n",
       "        1.30106362,  1.11066407,  2.69732703, -0.28559933,  2.2530614 ,\n",
       "       -1.5549297 , -0.98373103,  3.01465962,  1.68186273,  0.1586663 ,\n",
       "       -1.17413059,  0.34906585,  0.22213281, -0.47599889, -2.2530614 ,\n",
       "        2.44346095, -0.856798  , -0.41253237, -1.80879577, -1.61839622,\n",
       "       -3.14159265, -2.44346095,  1.36453014, -0.53946541,  3.14159265,\n",
       "       -2.37999443,  0.98373103,  2.50692747,  1.23759711,  1.87226229,\n",
       "        1.49146318,  2.63386051, -2.06266184, -1.49146318,  0.47599889,\n",
       "       -0.1586663 ,  0.856798  ,  1.93572881, -2.76079354,  1.74532925,\n",
       "       -1.93572881, -3.07812614,  1.80879577, -1.36453014, -1.87226229,\n",
       "       -1.99919533, -2.18959488,  0.72986496, -2.31652792, -1.42799666])"
      ]
     },
     "execution_count": 42,
     "metadata": {},
     "output_type": "execute_result"
    }
   ],
   "source": [
    "X_train = X[random_indices[:70]]\n",
    "Y_train = Y[random_indices[:70]]\n",
    "X_train            "
   ]
  },
  {
   "cell_type": "code",
   "execution_count": 43,
   "id": "a9788b81-d102-468a-aecc-04a8b62bc0fe",
   "metadata": {
    "tags": []
   },
   "outputs": [
    {
     "data": {
      "text/plain": [
       "array([-1.04719755, -1.74532925,  0.79333148,  0.66639844,  2.82426006,\n",
       "       -0.03173326, -2.12612836, -2.69732703,  2.06266184,  2.12612836,\n",
       "        0.28559933,  3.07812614,  2.18959488,  2.37999443,  0.09519978])"
      ]
     },
     "execution_count": 43,
     "metadata": {},
     "output_type": "execute_result"
    }
   ],
   "source": [
    "X_val = X[random_indices[70:85]]\n",
    "Y_val = Y[random_indices[70:85]]\n",
    "X_val        "
   ]
  },
  {
   "cell_type": "code",
   "execution_count": 44,
   "id": "41e5ae64-a4e2-4475-ae8f-b36f58ad208f",
   "metadata": {
    "tags": []
   },
   "outputs": [
    {
     "data": {
      "text/plain": [
       "array([-1.29454787, -1.53232062,  1.2786308 ,  1.62734638,  2.45487301,\n",
       "        0.44871881, -1.17019917, -0.91542811,  2.14889389,  2.08618028,\n",
       "        1.4105535 ,  1.76441973,  1.96373698,  2.43767853,  0.87946911])"
      ]
     },
     "execution_count": 44,
     "metadata": {},
     "output_type": "execute_result"
    }
   ],
   "source": [
    "Y_val"
   ]
  },
  {
   "cell_type": "code",
   "execution_count": 45,
   "id": "b6f4c149-41f4-4486-b69c-2d84513f12e1",
   "metadata": {
    "tags": []
   },
   "outputs": [
    {
     "data": {
      "text/plain": [
       "array([ 1.17413059, -0.72986496, -1.30106362,  2.9511931 ,  2.31652792,\n",
       "       -0.79333148, -0.34906585,  1.04719755, -2.82426006,  1.42799666,\n",
       "        2.76079354, -2.9511931 , -1.68186273,  0.53946541, -2.50692747])"
      ]
     },
     "execution_count": 45,
     "metadata": {},
     "output_type": "execute_result"
    }
   ],
   "source": [
    "X_test = X[random_indices[85:100]]\n",
    "Y_test = Y[random_indices[85:100]]\n",
    "X_test"
   ]
  },
  {
   "cell_type": "code",
   "execution_count": 46,
   "id": "88927bb4-65de-419d-b688-34d9c14b9987",
   "metadata": {
    "tags": []
   },
   "outputs": [
    {
     "data": {
      "text/plain": [
       "array([ 1.78682735, -0.85788776, -1.46255555,  2.60377429,  2.53967041,\n",
       "       -0.84350222,  0.14610014,  1.74647493, -1.66659915,  1.78065222,\n",
       "        2.33950707, -1.06661431, -1.61799736,  1.25501701, -1.82223549])"
      ]
     },
     "execution_count": 46,
     "metadata": {},
     "output_type": "execute_result"
    }
   ],
   "source": [
    "Y_test"
   ]
  },
  {
   "cell_type": "code",
   "execution_count": 100,
   "id": "601a5352-9153-4b79-a853-1e4caf40b22b",
   "metadata": {
    "tags": []
   },
   "outputs": [],
   "source": [
    "mod_X = np.asarray(X_train.reshape(len(X_train),1))\n",
    "mod_Y = np.asarray(Y_train.reshape(len(Y_train),1))"
   ]
  },
  {
   "cell_type": "code",
   "execution_count": 103,
   "id": "73c9627a-6b31-4b34-b063-6d654d399339",
   "metadata": {
    "tags": []
   },
   "outputs": [],
   "source": [
    "Model = LinearRegression().fit(mod_X,mod_Y)\n",
    "Pred_mod_Y = Model.predict(mod_X)\n"
   ]
  },
  {
   "cell_type": "code",
   "execution_count": 111,
   "id": "c0d48814-82cd-4d1e-a89f-9172d9c9750a",
   "metadata": {
    "tags": []
   },
   "outputs": [
    {
     "data": {
      "image/png": "[encoded data removed]",
      "text/plain": [
       "<Figure size 640x480 with 1 Axes>"
      ]
     },
     "metadata": {},
     "output_type": "display_data"
    }
   ],
   "source": [
    "plt.plot(X_train,Y_train,\"o\",color=\"black\")\n",
    "plt.plot(mod_X,Pred_mod_Y,color=\"blue\")\n",
    "plt.title(\"Fig:2 Data For Linear Regression\",color=\"red\")\n",
    "plt.xlabel(\"X-trained values\",color=\"red\")\n",
    "plt.ylabel(\"Y-trained values\",color=\"red\")\n",
    "plt.show()"
   ]
  },
  {
   "cell_type": "code",
   "execution_count": 113,
   "id": "415e976e-5b3c-49a7-a387-9c60854d5d91",
   "metadata": {
    "tags": []
   },
   "outputs": [],
   "source": [
    "M =  np.asarray(X_train.reshape(len(X_train),1))\n",
    "N =  Model.predict(mod_X)"
   ]
  },
  {
   "cell_type": "code",
   "execution_count": 114,
   "id": "ce7e2932-1c8e-4df4-b9f6-17066e15be31",
   "metadata": {
    "tags": []
   },
   "outputs": [
    {
     "data": {
      "image/png": "[encoded data removed]",
      "text/plain": [
       "<Figure size 640x480 with 1 Axes>"
      ]
     },
     "metadata": {},
     "output_type": "display_data"
    }
   ],
   "source": [
    "plt.plot(M,N,color=\"blue\")\n",
    "plt.title(\"Fig:3 Fitted Line For Linear Regression\",color=\"red\")\n",
    "plt.show()"
   ]
  },
  {
   "cell_type": "code",
   "execution_count": 116,
   "id": "89ca45b8-7644-4a88-906a-68dd48fc95df",
   "metadata": {
    "tags": []
   },
   "outputs": [
    {
     "data": {
      "text/plain": [
       "array([[0.09269394],\n",
       "       [0.72722677],\n",
       "       [1.30213609],\n",
       "       [1.08455019],\n",
       "       [7.48691048],\n",
       "       [0.24314591],\n",
       "       [1.32677933],\n",
       "       [2.56154842],\n",
       "       [4.57128186],\n",
       "       [4.78691875],\n",
       "       [0.55106012],\n",
       "       [8.61781022],\n",
       "       [5.00752511],\n",
       "       [5.69916113],\n",
       "       [0.35140314]])"
      ]
     },
     "execution_count": 116,
     "metadata": {},
     "output_type": "execute_result"
    }
   ],
   "source": [
    "mn_val_error = Model.predict(X_val.reshape(len(X_val),1))**2\n",
    "mn_val_error"
   ]
  },
  {
   "cell_type": "code",
   "execution_count": 117,
   "id": "408179f8-f08a-44ff-a531-4aeb0a629451",
   "metadata": {
    "tags": []
   },
   "outputs": [
    {
     "data": {
      "text/plain": [
       "array([[2.07416144e+00],\n",
       "       [3.04934126e-03],\n",
       "       [2.53860361e-01],\n",
       "       [8.04242138e+00],\n",
       "       [5.46364631e+00],\n",
       "       [1.10392916e-02],\n",
       "       [5.94688281e-02],\n",
       "       [1.79694172e+00],\n",
       "       [2.89060588e+00],\n",
       "       [2.68823472e+00],\n",
       "       [7.21660926e+00],\n",
       "       [3.23954129e+00],\n",
       "       [6.44694542e-01],\n",
       "       [8.86842224e-01],\n",
       "       [2.10523335e+00]])"
      ]
     },
     "execution_count": 117,
     "metadata": {},
     "output_type": "execute_result"
    }
   ],
   "source": [
    "mn_test_error = Model.predict(X_test.reshape(len(X_test),1))**2\n",
    "mn_test_error"
   ]
  },
  {
   "cell_type": "markdown",
   "id": "19f5f15f-a191-425f-9f9b-e6e8ed675735",
   "metadata": {},
   "source": [
    "## PART TWO"
   ]
  },
  {
   "cell_type": "code",
   "execution_count": 47,
   "id": "155d4395-1e36-412d-8c52-f6c9b90baba6",
   "metadata": {
    "tags": []
   },
   "outputs": [],
   "source": [
    "df = pd.read_csv('loan.csv')"
   ]
  },
  {
   "cell_type": "code",
   "execution_count": 48,
   "id": "2911109d-0510-4d64-82d2-013331b1baf4",
   "metadata": {
    "tags": []
   },
   "outputs": [
    {
     "name": "stdout",
     "output_type": "stream",
     "text": [
      "   Income  Loan Amount Default\n",
      "0      15            8      No\n",
      "1      30            8      No\n",
      "2       5            9     Yes\n",
      "3      22           10      No\n",
      "4      33           12      No\n",
      "5      18           15      No\n",
      "6      28           20      No\n",
      "7      12           21     Yes\n",
      "8      24           22     Yes\n",
      "9       9           30     Yes\n"
     ]
    }
   ],
   "source": [
    "print(df.head(10))"
   ]
  },
  {
   "cell_type": "code",
   "execution_count": 55,
   "id": "8e737844-8ff0-4507-b341-c99072b49743",
   "metadata": {
    "tags": []
   },
   "outputs": [
    {
     "name": "stdout",
     "output_type": "stream",
     "text": [
      "<class 'pandas.core.frame.DataFrame'>\n",
      "RangeIndex: 30 entries, 0 to 29\n",
      "Data columns (total 3 columns):\n",
      " #   Column       Non-Null Count  Dtype \n",
      "---  ------       --------------  ----- \n",
      " 0   Income       30 non-null     int64 \n",
      " 1   Loan Amount  30 non-null     int64 \n",
      " 2   Default      30 non-null     object\n",
      "dtypes: int64(2), object(1)\n",
      "memory usage: 852.0+ bytes\n",
      "None\n"
     ]
    }
   ],
   "source": [
    "print(df.info())"
   ]
  },
  {
   "cell_type": "code",
   "execution_count": 53,
   "id": "a8eacd72-2fc9-4bf6-a1ba-7fe73f677866",
   "metadata": {
    "tags": []
   },
   "outputs": [
    {
     "data": {
      "text/plain": [
       "<Axes: xlabel='Default', ylabel='Income'>"
      ]
     },
     "execution_count": 53,
     "metadata": {},
     "output_type": "execute_result"
    },
    {
     "data": {
      "image/png": "[encoded data removed]",
      "text/plain": [
       "<Figure size 640x480 with 1 Axes>"
      ]
     },
     "metadata": {},
     "output_type": "display_data"
    }
   ],
   "source": [
    "sb.boxplot(df, x ='Default', y ='Income')"
   ]
  },
  {
   "cell_type": "code",
   "execution_count": 91,
   "id": "4c269449-bb60-4a22-8da9-647393c60209",
   "metadata": {
    "tags": []
   },
   "outputs": [
    {
     "data": {
      "text/plain": [
       "<Axes: xlabel='Loan Amount', ylabel='Income'>"
      ]
     },
     "execution_count": 91,
     "metadata": {},
     "output_type": "execute_result"
    },
    {
     "data": {
      "image/png": "[encoded data removed]",
      "text/plain": [
       "<Figure size 640x480 with 1 Axes>"
      ]
     },
     "metadata": {},
     "output_type": "display_data"
    }
   ],
   "source": [
    "sb.scatterplot(df,x= 'Loan Amount', y= 'Income', hue ='Default', markers=[\"^\",\"o\"],s= 150)"
   ]
  },
  {
   "cell_type": "code",
   "execution_count": 80,
   "id": "6f244922-08dc-425f-ae97-b5e72f1fa797",
   "metadata": {
    "tags": []
   },
   "outputs": [],
   "source": [
    "A= df['Default']"
   ]
  },
  {
   "cell_type": "code",
   "execution_count": 86,
   "id": "f4ebdf72-ce6b-495b-9abb-82b979c759ca",
   "metadata": {
    "tags": []
   },
   "outputs": [],
   "source": [
    "List =['Income','Loan Amount']\n",
    "B =df[List]"
   ]
  },
  {
   "cell_type": "code",
   "execution_count": 97,
   "id": "bfc09f6a-5c6e-46d0-82aa-bf52b7253d6d",
   "metadata": {
    "tags": []
   },
   "outputs": [
    {
     "data": {
      "text/plain": [
       "(24, 2)"
      ]
     },
     "execution_count": 97,
     "metadata": {},
     "output_type": "execute_result"
    }
   ],
   "source": [
    "x_train,x_test,y_train,y_test = train_test_split(B,A, train_size=0.8,stratify=A, random_state = 1234)\n",
    "x_train.shape"
   ]
  },
  {
   "cell_type": "code",
   "execution_count": 98,
   "id": "5d73ffd1-cb51-443a-bb1d-72cfdf6a284a",
   "metadata": {
    "tags": []
   },
   "outputs": [
    {
     "data": {
      "text/plain": [
       "(6, 2)"
      ]
     },
     "execution_count": 98,
     "metadata": {},
     "output_type": "execute_result"
    }
   ],
   "source": [
    "x_test.shape"
   ]
  },
  {
   "cell_type": "code",
   "execution_count": 88,
   "id": "3935a5d5-5f33-46b9-bdcc-fc0969eda3bc",
   "metadata": {
    "tags": []
   },
   "outputs": [],
   "source": [
    "from sklearn.tree import DecisionTreeClassifier"
   ]
  },
  {
   "cell_type": "code",
   "execution_count": 89,
   "id": "eaad5e11-0da7-42bd-b124-9fcfb9dd919c",
   "metadata": {
    "tags": []
   },
   "outputs": [],
   "source": [
    "Classifier = DecisionTreeClassifier(random_state=100)"
   ]
  },
  {
   "cell_type": "code",
   "execution_count": 90,
   "id": "735d5e8f-f08c-415c-9874-43f4c9609297",
   "metadata": {
    "tags": []
   },
   "outputs": [
    {
     "data": {
      "text/html": [
       "<style>#sk-container-id-1 {color: black;}#sk-container-id-1 pre{padding: 0;}#sk-container-id-1 div.sk-toggleable {background-color: white;}#sk-container-id-1 label.sk-toggleable__label {cursor: pointer;display: block;width: 100%;margin-bottom: 0;padding: 0.3em;box-sizing: border-box;text-align: center;}#sk-container-id-1 label.sk-toggleable__label-arrow:before {content: \"▸\";float: left;margin-right: 0.25em;color: #696969;}#sk-container-id-1 label.sk-toggleable__label-arrow:hover:before {color: black;}#sk-container-id-1 div.sk-estimator:hover label.sk-toggleable__label-arrow:before {color: black;}#sk-container-id-1 div.sk-toggleable__content {max-height: 0;max-width: 0;overflow: hidden;text-align: left;background-color: #f0f8ff;}#sk-container-id-1 div.sk-toggleable__content pre {margin: 0.2em;color: black;border-radius: 0.25em;background-color: #f0f8ff;}#sk-container-id-1 input.sk-toggleable__control:checked~div.sk-toggleable__content {max-height: 200px;max-width: 100%;overflow: auto;}#sk-container-id-1 input.sk-toggleable__control:checked~label.sk-toggleable__label-arrow:before {content: \"▾\";}#sk-container-id-1 div.sk-estimator input.sk-toggleable__control:checked~label.sk-toggleable__label {background-color: #d4ebff;}#sk-container-id-1 div.sk-label input.sk-toggleable__control:checked~label.sk-toggleable__label {background-color: #d4ebff;}#sk-container-id-1 input.sk-hidden--visually {border: 0;clip: rect(1px 1px 1px 1px);clip: rect(1px, 1px, 1px, 1px);height: 1px;margin: -1px;overflow: hidden;padding: 0;position: absolute;width: 1px;}#sk-container-id-1 div.sk-estimator {font-family: monospace;background-color: #f0f8ff;border: 1px dotted black;border-radius: 0.25em;box-sizing: border-box;margin-bottom: 0.5em;}#sk-container-id-1 div.sk-estimator:hover {background-color: #d4ebff;}#sk-container-id-1 div.sk-parallel-item::after {content: \"\";width: 100%;border-bottom: 1px solid gray;flex-grow: 1;}#sk-container-id-1 div.sk-label:hover label.sk-toggleable__label {background-color: #d4ebff;}#sk-container-id-1 div.sk-serial::before {content: \"\";position: absolute;border-left: 1px solid gray;box-sizing: border-box;top: 0;bottom: 0;left: 50%;z-index: 0;}#sk-container-id-1 div.sk-serial {display: flex;flex-direction: column;align-items: center;background-color: white;padding-right: 0.2em;padding-left: 0.2em;position: relative;}#sk-container-id-1 div.sk-item {position: relative;z-index: 1;}#sk-container-id-1 div.sk-parallel {display: flex;align-items: stretch;justify-content: center;background-color: white;position: relative;}#sk-container-id-1 div.sk-item::before, #sk-container-id-1 div.sk-parallel-item::before {content: \"\";position: absolute;border-left: 1px solid gray;box-sizing: border-box;top: 0;bottom: 0;left: 50%;z-index: -1;}#sk-container-id-1 div.sk-parallel-item {display: flex;flex-direction: column;z-index: 1;position: relative;background-color: white;}#sk-container-id-1 div.sk-parallel-item:first-child::after {align-self: flex-end;width: 50%;}#sk-container-id-1 div.sk-parallel-item:last-child::after {align-self: flex-start;width: 50%;}#sk-container-id-1 div.sk-parallel-item:only-child::after {width: 0;}#sk-container-id-1 div.sk-dashed-wrapped {border: 1px dashed gray;margin: 0 0.4em 0.5em 0.4em;box-sizing: border-box;padding-bottom: 0.4em;background-color: white;}#sk-container-id-1 div.sk-label label {font-family: monospace;font-weight: bold;display: inline-block;line-height: 1.2em;}#sk-container-id-1 div.sk-label-container {text-align: center;}#sk-container-id-1 div.sk-container {/* jupyter's `normalize.less` sets `[hidden] { display: none; }` but bootstrap.min.css set `[hidden] { display: none !important; }` so we also need the `!important` here to be able to override the default hidden behavior on the sphinx rendered scikit-learn.org. See: https://github.com/scikit-learn/scikit-learn/issues/21755 */display: inline-block !important;position: relative;}#sk-container-id-1 div.sk-text-repr-fallback {display: none;}</style><div id=\"sk-container-id-1\" class=\"sk-top-container\"><div class=\"sk-text-repr-fallback\"><pre>DecisionTreeClassifier(random_state=100)</pre><b>In a Jupyter environment, please rerun this cell to show the HTML representation or trust the notebook. <br />On GitHub, the HTML representation is unable to render, please try loading this page with nbviewer.org.</b></div><div class=\"sk-container\" hidden><div class=\"sk-item\"><div class=\"sk-estimator sk-toggleable\"><input class=\"sk-toggleable__control sk-hidden--visually\" id=\"sk-estimator-id-1\" type=\"checkbox\" checked><label for=\"sk-estimator-id-1\" class=\"sk-toggleable__label sk-toggleable__label-arrow\">DecisionTreeClassifier</label><div class=\"sk-toggleable__content\"><pre>DecisionTreeClassifier(random_state=100)</pre></div></div></div></div></div>"
      ],
      "text/plain": [
       "DecisionTreeClassifier(random_state=100)"
      ]
     },
     "execution_count": 90,
     "metadata": {},
     "output_type": "execute_result"
    }
   ],
   "source": [
    "Classifier.fit(x_train,y_train)"
   ]
  },
  {
   "cell_type": "code",
   "execution_count": 127,
   "id": "dcc95a3e-4f14-4408-aa6f-7a5269113bf0",
   "metadata": {
    "tags": []
   },
   "outputs": [],
   "source": [
    "predict = Classifier.predict(x_test)"
   ]
  },
  {
   "cell_type": "code",
   "execution_count": null,
   "id": "c03a9298-580e-4194-a9dc-42eee50a9926",
   "metadata": {
    "tags": []
   },
   "outputs": [],
   "source": [
    "Accuracy_Score = accuracy_score(predict,y_test)\n",
    "Performance_Score*100"
   ]
  },
  {
   "cell_type": "code",
   "execution_count": null,
   "id": "3fc77f55-7b1d-4d62-8d73-6b6407a246f4",
   "metadata": {
    "tags": []
   },
   "outputs": [],
   "source": [
    "plt.figure(figsize=(15,15))\n",
    "tree.plot_tree(model,feature_names=list(B),class_names=['No','Yes'],filled = True)\n",
    "plt.show()\n"
   ]
  },
  {
   "cell_type": "code",
   "execution_count": null,
   "id": "f12f93d3-6b81-46e7-a148-1d163154a267",
   "metadata": {},
   "outputs": [],
   "source": []
  }
 ],
 "metadata": {
  "kernelspec": {
   "display_name": "Python 3 (ipykernel)",
   "language": "python",
   "name": "python3"
  },
  "language_info": {
   "codemirror_mode": {
    "name": "ipython",
    "version": 3
   },
   "file_extension": ".py",
   "mimetype": "text/x-python",
   "name": "python",
   "nbconvert_exporter": "python",
   "pygments_lexer": "ipython3",
   "version": "3.11.5"
  }
 },
 "nbformat": 4,
 "nbformat_minor": 5
}
